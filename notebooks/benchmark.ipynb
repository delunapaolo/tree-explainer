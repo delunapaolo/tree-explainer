{
 "cells": [
  {
   "cell_type": "markdown",
   "metadata": {
    "collapsed": true,
    "pycharm": {
     "is_executing": false
    }
   },
   "source": [
    "# Introduction\n",
    "\n"
   ]
  },
  {
   "cell_type": "markdown",
   "metadata": {},
   "source": [
    "## Install packages\n",
    "\n",
    "Install treeinterpreter ([source](https://github.com/andosa/treeinterpreter/)) with:\n",
    "\n",
    "    pip install treeinterpreter\n",
    "\n",
    "Install ELI5 ([source](https://github.com/TeamHG-Memex/eli5)) with:\n",
    "\n",
    "    pip install eli5"
   ]
  },
  {
   "cell_type": "markdown",
   "metadata": {},
   "source": [
    "# TreeExplainer produces the same values of treeinterpreter"
   ]
  },
  {
   "cell_type": "code",
   "execution_count": 1,
   "metadata": {
    "pycharm": {
     "is_executing": false
    }
   },
   "outputs": [],
   "source": [
    "from time import time\n",
    "import numpy as np\n",
    "import pandas as pd\n",
    "from sklearn.ensemble import RandomForestClassifier\n",
    "from sklearn.datasets import make_classification\n",
    "from sklearn.model_selection import train_test_split\n",
    "\n",
    "from treeinterpreter import treeinterpreter as ti\n",
    "from tree_explainer.tree_explainer import TreeExplainer\n",
    "\n",
    "%load_ext autoreload\n",
    "\n",
    "\n",
    "SEED = 17\n",
    "\n",
    "# Generate data\n",
    "X, y = make_classification(n_samples=1000, n_features=10, n_classes=2)\n",
    "# Split data\n",
    "X_train, X_test, y_train, y_test = train_test_split(X, y, test_size=.20, random_state=SEED)\n",
    "\n",
    "# Create and train classifier\n",
    "RF = RandomForestClassifier(n_estimators=100, random_state=SEED, n_jobs=-1)\n",
    "RF.fit(X_train, y_train);"
   ]
  },
  {
   "cell_type": "code",
   "execution_count": 2,
   "metadata": {},
   "outputs": [
    {
     "name": "stdout",
     "output_type": "stream",
     "text": [
      "CPU times: user 109 ms, sys: 4.48 ms, total: 114 ms\n",
      "Wall time: 113 ms\n"
     ]
    }
   ],
   "source": [
    "%%time \n",
    "\n",
    "# Use treeinterpreter to compute feature contributions\n",
    "# Call directly _predict_forest()\n",
    "ti_prediction, ti_bias, ti_contributions = ti._predict_forest(RF, X_test, joint_contribution=False)"
   ]
  },
  {
   "cell_type": "code",
   "execution_count": 3,
   "metadata": {},
   "outputs": [
    {
     "name": "stdout",
     "output_type": "stream",
     "text": [
      "CPU times: user 20.1 ms, sys: 4.97 ms, total: 25.1 ms\n",
      "Wall time: 107 ms\n"
     ]
    }
   ],
   "source": [
    "%%time\n",
    "\n",
    "# Initialize TreeExplainer\n",
    "TE = TreeExplainer(RF, X_test)"
   ]
  },
  {
   "cell_type": "code",
   "execution_count": 4,
   "metadata": {},
   "outputs": [
    {
     "name": "stdout",
     "output_type": "stream",
     "text": [
      "CPU times: user 333 ms, sys: 4.47 ms, total: 338 ms\n",
      "Wall time: 338 ms\n"
     ]
    },
    {
     "data": {
      "text/plain": [
       "<tree_explainer.tree_explainer.TreeExplainer at 0x1a20c9ca90>"
      ]
     },
     "execution_count": 4,
     "metadata": {},
     "output_type": "execute_result"
    }
   ],
   "source": [
    "%%time\n",
    "\n",
    "# Compute feature contributions\n",
    "TE.explain_feature_contributions(joint_contributions=False);"
   ]
  },
  {
   "cell_type": "markdown",
   "metadata": {},
   "source": [
    "Make sure that results are the same:"
   ]
  },
  {
   "cell_type": "code",
   "execution_count": 5,
   "metadata": {},
   "outputs": [
    {
     "data": {
      "text/plain": [
       "True"
      ]
     },
     "execution_count": 5,
     "metadata": {},
     "output_type": "execute_result"
    }
   ],
   "source": [
    "# Are contribution values the same?\n",
    "np.allclose(TE.contributions, \n",
    "            ti_contributions)"
   ]
  },
  {
   "cell_type": "code",
   "execution_count": 6,
   "metadata": {
    "pycharm": {
     "is_executing": false
    }
   },
   "outputs": [
    {
     "data": {
      "text/plain": [
       "True"
      ]
     },
     "execution_count": 6,
     "metadata": {},
     "output_type": "execute_result"
    }
   ],
   "source": [
    "# Are the target probabilities at the root of each tree the same?\n",
    "np.allclose(TE.target_probability_at_root.mean(axis=0), \n",
    "            ti_bias[0, :])"
   ]
  },
  {
   "cell_type": "code",
   "execution_count": 7,
   "metadata": {},
   "outputs": [
    {
     "data": {
      "text/plain": [
       "True"
      ]
     },
     "execution_count": 7,
     "metadata": {},
     "output_type": "execute_result"
    }
   ],
   "source": [
    "# Are predicted values the same?\n",
    "np.allclose(TE.prediction_probabilities, \n",
    "            ti_prediction)"
   ]
  },
  {
   "cell_type": "code",
   "execution_count": 8,
   "metadata": {},
   "outputs": [
    {
     "data": {
      "text/plain": [
       "True"
      ]
     },
     "execution_count": 8,
     "metadata": {},
     "output_type": "execute_result"
    }
   ],
   "source": [
    "# Do predictions equal the sum of feature contributions and target probabilities at the root of each tree?\n",
    "np.allclose(ti_prediction, \n",
    "            np.sum(ti_contributions, axis=1) + ti_bias)"
   ]
  },
  {
   "cell_type": "code",
   "execution_count": 9,
   "metadata": {},
   "outputs": [
    {
     "data": {
      "text/plain": [
       "True"
      ]
     },
     "execution_count": 9,
     "metadata": {},
     "output_type": "execute_result"
    }
   ],
   "source": [
    "# Do predictions equal the sum of feature contributions and target probabilities at the root of each tree?\n",
    "np.allclose(TE.prediction_probabilities, \n",
    "            np.sum(TE.contributions, axis=1) + TE.target_probability_at_root.mean(axis=0))"
   ]
  },
  {
   "cell_type": "markdown",
   "metadata": {},
   "source": [
    "## ELI5 is cumbersome and slow, but offers a colorful output"
   ]
  },
  {
   "cell_type": "code",
   "execution_count": 10,
   "metadata": {},
   "outputs": [
    {
     "name": "stdout",
     "output_type": "stream",
     "text": [
      "CPU times: user 16.8 s, sys: 1.62 s, total: 18.4 s\n",
      "Wall time: 1min 11s\n"
     ]
    }
   ],
   "source": [
    "%%time\n",
    "\n",
    "from eli5.sklearn.explain_prediction import explain_prediction_tree_classifier\n",
    "from eli5.formatters.as_dataframe import format_as_dataframe\n",
    "\n",
    "\n",
    "# Iterate through each observation\n",
    "RES = list()\n",
    "for i_obs in range(X_test.shape[0]):\n",
    "    res = format_as_dataframe(explain_prediction_tree_classifier(RF, X_test[i_obs, :]))\n",
    "    # Add index of observation\n",
    "    res['observation'] = i_obs\n",
    "    RES.append(res)\n",
    "\n",
    "# Concatenate results\n",
    "all_RES = pd.concat(RES, axis=0, ignore_index=True, sort=False)"
   ]
  },
  {
   "cell_type": "code",
   "execution_count": 11,
   "metadata": {},
   "outputs": [
    {
     "name": "stdout",
     "output_type": "stream",
     "text": [
      "True\n",
      "True\n"
     ]
    }
   ],
   "source": [
    "eli5_contributions = (all_RES\n",
    "                      .groupby(by=['feature', 'target'])['weight']\n",
    "                      .mean()\n",
    "                      .to_frame()\n",
    "                      .reset_index()\n",
    "                      .pivot(index='feature', columns='target', values='weight')\n",
    "                     )\n",
    "\n",
    "# Check target probability at root\n",
    "print(np.allclose(ti_bias[0, :], \n",
    "                  eli5_contributions.loc['<BIAS>'].values))\n",
    "\n",
    "print(np.allclose(TE.target_probability_at_root.mean(axis=0), \n",
    "                  eli5_contributions.loc['<BIAS>'].values))"
   ]
  },
  {
   "cell_type": "code",
   "execution_count": 12,
   "metadata": {},
   "outputs": [
    {
     "name": "stdout",
     "output_type": "stream",
     "text": [
      "True\n",
      "True\n"
     ]
    }
   ],
   "source": [
    "# Check that predictions are the same\n",
    "eli5_predictions = all_RES.groupby(by=['observation', 'target'])['weight'].sum()\n",
    "rows = eli5_predictions.to_frame().reset_index()['observation'].values\n",
    "cols = eli5_predictions.to_frame().reset_index()['target'].values\n",
    "\n",
    "print(np.allclose(ti_prediction[rows, cols], \n",
    "                  eli5_predictions.values))\n",
    "\n",
    "print(np.allclose(TE.prediction_probabilities[rows, cols], \n",
    "                  eli5_predictions.values))"
   ]
  },
  {
   "cell_type": "code",
   "execution_count": 13,
   "metadata": {},
   "outputs": [
    {
     "data": {
      "text/plain": [
       "array([[-0.00136559, -0.00092497],\n",
       "       [ 0.00278215, -0.00215357],\n",
       "       [ 0.02284026,  0.02846562],\n",
       "       [ 0.00137673,  0.0013186 ],\n",
       "       [ 0.17168357,  0.18454071],\n",
       "       [ 0.0690868 ,  0.06993351],\n",
       "       [-0.00180276,  0.00199364],\n",
       "       [-0.0023142 , -0.00219543],\n",
       "       [ 0.17192941,  0.16806539],\n",
       "       [-0.00034188,  0.00046336]])"
      ]
     },
     "execution_count": 13,
     "metadata": {},
     "output_type": "execute_result"
    }
   ],
   "source": [
    "eli5_contributions = (all_RES\n",
    "                      .groupby(by=['feature', 'target'])['weight']\n",
    "                      .mean()\n",
    "                      .to_frame()\n",
    "                      .reset_index()\n",
    "                      .pivot(index='feature', columns='target', values='weight')\n",
    "                      .values[1:, :]  # first row refers to <BIAS>\n",
    "                     )\n",
    "\n",
    "eli5_contributions"
   ]
  },
  {
   "cell_type": "code",
   "execution_count": null,
   "metadata": {},
   "outputs": [],
   "source": []
  },
  {
   "cell_type": "markdown",
   "metadata": {},
   "source": [
    "These values are completely different from treeinterpreter, and more importantly, they are not symmetric, that is, the average contribution to a target does not correspond to an equal weight in the opposite direction to the other target. "
   ]
  },
  {
   "cell_type": "code",
   "execution_count": 14,
   "metadata": {},
   "outputs": [
    {
     "data": {
      "text/plain": [
       "array([[-1.97400413e-04,  1.97400413e-04],\n",
       "       [ 2.46157130e-03, -2.46157130e-03],\n",
       "       [-3.32573915e-03,  3.32573915e-03],\n",
       "       [ 2.10779346e-06, -2.10779346e-06],\n",
       "       [-9.99081213e-03,  9.99081213e-03],\n",
       "       [-1.81355780e-03,  1.81355780e-03],\n",
       "       [-1.90010734e-03,  1.90010734e-03],\n",
       "       [-1.42903133e-05,  1.42903133e-05],\n",
       "       [-1.46794033e-03,  1.46794033e-03],\n",
       "       [-4.03831616e-04,  4.03831616e-04]])"
      ]
     },
     "execution_count": 14,
     "metadata": {},
     "output_type": "execute_result"
    }
   ],
   "source": [
    "ti_contributions.mean(axis=0)"
   ]
  },
  {
   "cell_type": "markdown",
   "metadata": {},
   "source": [
    "In fact, eli5 does not use information from true labels. This means, that the average contribution values refer to the predicted targets. If we group contributions by predicted targets, the results are the same of treeinterpreter."
   ]
  },
  {
   "cell_type": "code",
   "execution_count": 15,
   "metadata": {},
   "outputs": [
    {
     "data": {
      "text/plain": [
       "True"
      ]
     },
     "execution_count": 15,
     "metadata": {},
     "output_type": "execute_result"
    }
   ],
   "source": [
    "predicted_targets = ti_prediction.argmax(axis=1) \n",
    "ti_contributions_by_predicted_target = np.vstack((ti_contributions[predicted_targets == 0, :, 0].mean(0), \n",
    "                                                  ti_contributions[predicted_targets == 1, :, 1].mean(0))).T\n",
    "\n",
    "np.allclose(ti_contributions_by_predicted_target, \n",
    "            eli5_contributions)"
   ]
  },
  {
   "cell_type": "markdown",
   "metadata": {},
   "source": [
    "Despite all (!), ELI5 offers a colorful output (in a Jupyter notebook)"
   ]
  },
  {
   "cell_type": "code",
   "execution_count": 16,
   "metadata": {},
   "outputs": [
    {
     "data": {
      "text/html": [
       "\n",
       "    <style>\n",
       "    table.eli5-weights tr:hover {\n",
       "        filter: brightness(85%);\n",
       "    }\n",
       "</style>\n",
       "\n",
       "\n",
       "\n",
       "    \n",
       "\n",
       "    \n",
       "\n",
       "    \n",
       "\n",
       "    \n",
       "\n",
       "    \n",
       "\n",
       "    \n",
       "\n",
       "\n",
       "    \n",
       "\n",
       "    \n",
       "\n",
       "    \n",
       "\n",
       "    \n",
       "        \n",
       "\n",
       "    \n",
       "\n",
       "        \n",
       "            \n",
       "                \n",
       "                \n",
       "    \n",
       "        <p style=\"margin-bottom: 0.5em; margin-top: 0em\">\n",
       "            <b>\n",
       "    \n",
       "        y=0\n",
       "    \n",
       "</b>\n",
       "\n",
       "    \n",
       "    (probability <b>1.000</b>)\n",
       "\n",
       "top features\n",
       "        </p>\n",
       "    \n",
       "    <table class=\"eli5-weights\"\n",
       "           style=\"border-collapse: collapse; border: none; margin-top: 0em; table-layout: auto; margin-bottom: 2em;\">\n",
       "        <thead>\n",
       "        <tr style=\"border: none;\">\n",
       "            \n",
       "                <th style=\"padding: 0 1em 0 0.5em; text-align: right; border: none;\" title=\"Feature contribution already accounts for the feature value (for linear models, contribution = weight * feature value), and the sum of feature contributions is equal to the score or, for some classifiers, to the probability. Feature values are shown if &quot;show_feature_values&quot; is True.\">\n",
       "                    Contribution<sup>?</sup>\n",
       "                </th>\n",
       "            \n",
       "            <th style=\"padding: 0 0.5em 0 0.5em; text-align: left; border: none;\">Feature</th>\n",
       "            \n",
       "                <th style=\"padding: 0 0.5em 0 1em; text-align: right; border: none;\">Value</th>\n",
       "            \n",
       "        </tr>\n",
       "        </thead>\n",
       "        <tbody>\n",
       "        \n",
       "            <tr style=\"background-color: hsl(120, 100.00%, 80.00%); border: none;\">\n",
       "    <td style=\"padding: 0 1em 0 0.5em; text-align: right; border: none;\">\n",
       "        +0.502\n",
       "    </td>\n",
       "    <td style=\"padding: 0 0.5em 0 0.5em; text-align: left; border: none;\">\n",
       "        &lt;BIAS&gt;\n",
       "    </td>\n",
       "    \n",
       "        <td style=\"padding: 0 0.5em 0 1em; text-align: right; border: none;\">\n",
       "            1.000\n",
       "        </td>\n",
       "    \n",
       "</tr>\n",
       "        \n",
       "            <tr style=\"background-color: hsl(120, 100.00%, 89.32%); border: none;\">\n",
       "    <td style=\"padding: 0 1em 0 0.5em; text-align: right; border: none;\">\n",
       "        +0.205\n",
       "    </td>\n",
       "    <td style=\"padding: 0 0.5em 0 0.5em; text-align: left; border: none;\">\n",
       "        x4\n",
       "    </td>\n",
       "    \n",
       "        <td style=\"padding: 0 0.5em 0 1em; text-align: right; border: none;\">\n",
       "            -3.546\n",
       "        </td>\n",
       "    \n",
       "</tr>\n",
       "        \n",
       "            <tr style=\"background-color: hsl(120, 100.00%, 90.88%); border: none;\">\n",
       "    <td style=\"padding: 0 1em 0 0.5em; text-align: right; border: none;\">\n",
       "        +0.164\n",
       "    </td>\n",
       "    <td style=\"padding: 0 0.5em 0 0.5em; text-align: left; border: none;\">\n",
       "        x8\n",
       "    </td>\n",
       "    \n",
       "        <td style=\"padding: 0 0.5em 0 1em; text-align: right; border: none;\">\n",
       "            -3.561\n",
       "        </td>\n",
       "    \n",
       "</tr>\n",
       "        \n",
       "            <tr style=\"background-color: hsl(120, 100.00%, 94.42%); border: none;\">\n",
       "    <td style=\"padding: 0 1em 0 0.5em; text-align: right; border: none;\">\n",
       "        +0.081\n",
       "    </td>\n",
       "    <td style=\"padding: 0 0.5em 0 0.5em; text-align: left; border: none;\">\n",
       "        x5\n",
       "    </td>\n",
       "    \n",
       "        <td style=\"padding: 0 0.5em 0 1em; text-align: right; border: none;\">\n",
       "            1.357\n",
       "        </td>\n",
       "    \n",
       "</tr>\n",
       "        \n",
       "            <tr style=\"background-color: hsl(120, 100.00%, 97.87%); border: none;\">\n",
       "    <td style=\"padding: 0 1em 0 0.5em; text-align: right; border: none;\">\n",
       "        +0.020\n",
       "    </td>\n",
       "    <td style=\"padding: 0 0.5em 0 0.5em; text-align: left; border: none;\">\n",
       "        x2\n",
       "    </td>\n",
       "    \n",
       "        <td style=\"padding: 0 0.5em 0 1em; text-align: right; border: none;\">\n",
       "            0.064\n",
       "        </td>\n",
       "    \n",
       "</tr>\n",
       "        \n",
       "            <tr style=\"background-color: hsl(120, 100.00%, 98.39%); border: none;\">\n",
       "    <td style=\"padding: 0 1em 0 0.5em; text-align: right; border: none;\">\n",
       "        +0.014\n",
       "    </td>\n",
       "    <td style=\"padding: 0 0.5em 0 0.5em; text-align: left; border: none;\">\n",
       "        x1\n",
       "    </td>\n",
       "    \n",
       "        <td style=\"padding: 0 0.5em 0 1em; text-align: right; border: none;\">\n",
       "            -1.048\n",
       "        </td>\n",
       "    \n",
       "</tr>\n",
       "        \n",
       "            <tr style=\"background-color: hsl(120, 100.00%, 99.13%); border: none;\">\n",
       "    <td style=\"padding: 0 1em 0 0.5em; text-align: right; border: none;\">\n",
       "        +0.006\n",
       "    </td>\n",
       "    <td style=\"padding: 0 0.5em 0 0.5em; text-align: left; border: none;\">\n",
       "        x9\n",
       "    </td>\n",
       "    \n",
       "        <td style=\"padding: 0 0.5em 0 1em; text-align: right; border: none;\">\n",
       "            0.217\n",
       "        </td>\n",
       "    \n",
       "</tr>\n",
       "        \n",
       "            <tr style=\"background-color: hsl(120, 100.00%, 99.14%); border: none;\">\n",
       "    <td style=\"padding: 0 1em 0 0.5em; text-align: right; border: none;\">\n",
       "        +0.006\n",
       "    </td>\n",
       "    <td style=\"padding: 0 0.5em 0 0.5em; text-align: left; border: none;\">\n",
       "        x7\n",
       "    </td>\n",
       "    \n",
       "        <td style=\"padding: 0 0.5em 0 1em; text-align: right; border: none;\">\n",
       "            0.129\n",
       "        </td>\n",
       "    \n",
       "</tr>\n",
       "        \n",
       "            <tr style=\"background-color: hsl(120, 100.00%, 99.49%); border: none;\">\n",
       "    <td style=\"padding: 0 1em 0 0.5em; text-align: right; border: none;\">\n",
       "        +0.003\n",
       "    </td>\n",
       "    <td style=\"padding: 0 0.5em 0 0.5em; text-align: left; border: none;\">\n",
       "        x0\n",
       "    </td>\n",
       "    \n",
       "        <td style=\"padding: 0 0.5em 0 1em; text-align: right; border: none;\">\n",
       "            0.231\n",
       "        </td>\n",
       "    \n",
       "</tr>\n",
       "        \n",
       "            <tr style=\"background-color: hsl(120, 100.00%, 99.86%); border: none;\">\n",
       "    <td style=\"padding: 0 1em 0 0.5em; text-align: right; border: none;\">\n",
       "        +0.000\n",
       "    </td>\n",
       "    <td style=\"padding: 0 0.5em 0 0.5em; text-align: left; border: none;\">\n",
       "        x6\n",
       "    </td>\n",
       "    \n",
       "        <td style=\"padding: 0 0.5em 0 1em; text-align: right; border: none;\">\n",
       "            -0.711\n",
       "        </td>\n",
       "    \n",
       "</tr>\n",
       "        \n",
       "        \n",
       "\n",
       "        \n",
       "        \n",
       "            <tr style=\"background-color: hsl(0, 100.00%, 99.77%); border: none;\">\n",
       "    <td style=\"padding: 0 1em 0 0.5em; text-align: right; border: none;\">\n",
       "        -0.001\n",
       "    </td>\n",
       "    <td style=\"padding: 0 0.5em 0 0.5em; text-align: left; border: none;\">\n",
       "        x3\n",
       "    </td>\n",
       "    \n",
       "        <td style=\"padding: 0 0.5em 0 1em; text-align: right; border: none;\">\n",
       "            1.595\n",
       "        </td>\n",
       "    \n",
       "</tr>\n",
       "        \n",
       "\n",
       "        </tbody>\n",
       "    </table>\n",
       "\n",
       "            \n",
       "        \n",
       "\n",
       "        \n",
       "\n",
       "\n",
       "\n",
       "    \n",
       "\n",
       "    \n",
       "\n",
       "    \n",
       "\n",
       "    \n",
       "\n",
       "\n",
       "    \n",
       "\n",
       "    \n",
       "\n",
       "    \n",
       "\n",
       "    \n",
       "\n",
       "    \n",
       "\n",
       "    \n",
       "\n",
       "\n",
       "    \n",
       "\n",
       "    \n",
       "\n",
       "    \n",
       "\n",
       "    \n",
       "\n",
       "    \n",
       "\n",
       "    \n",
       "\n",
       "\n",
       "\n"
      ],
      "text/plain": [
       "<IPython.core.display.HTML object>"
      ]
     },
     "execution_count": 16,
     "metadata": {},
     "output_type": "execute_result"
    }
   ],
   "source": [
    "from eli5 import show_prediction\n",
    "\n",
    "# Again, one observation at a time. Let's see observation number 1\n",
    "show_prediction(RF, X_test[0, :], show_feature_values=True)"
   ]
  },
  {
   "cell_type": "markdown",
   "metadata": {},
   "source": [
    "If you can live without colors, TreeExplainer offers a similar interface:"
   ]
  },
  {
   "cell_type": "code",
   "execution_count": 17,
   "metadata": {},
   "outputs": [],
   "source": [
    "# Transform X_test into a DataFrame, so we can use the same feature names as in ELI5\n",
    "df_test = pd.DataFrame(X_test, columns=['x%i' % i for i in range(X_test.shape[1])])\n",
    "\n",
    "# Rerun TreeExplainer by passing joint_contributions = True\n",
    "TE = TreeExplainer(RF, df_test, y_test).explain_feature_contributions(joint_contributions=True);\n",
    "# Let's analyze the rest of the tree structure\n",
    "TE.analyze_tree_structure();"
   ]
  },
  {
   "cell_type": "code",
   "execution_count": 18,
   "metadata": {},
   "outputs": [
    {
     "name": "stdout",
     "output_type": "stream",
     "text": [
      "\n",
      "Observation #0: target = '0' (correct)\n",
      "\n",
      "     value lower quartile  median upper quartile contribution\n",
      "x8  -3.561         -1.532  -1.072         -0.627        11.2%\n",
      "x4  -3.546         -1.579  -1.111         -0.659        10.4%\n",
      "x2   0.064         -0.608   0.312          1.134         4.5%\n",
      "x1  -1.048         -0.883  -0.451          0.169         3.6%\n",
      "x7   0.129         -0.704  -0.082          0.353         3.0%\n",
      "x5   1.357         -0.088   0.376          0.868         2.3%\n",
      "x9   0.217         -0.459   0.051          0.761         2.1%\n",
      "x6  -0.711         -0.908  -0.340          0.176         2.0%\n",
      "x3   1.595         -0.555   0.116          0.775         0.9%\n",
      "x0   0.231         -0.604   0.098          0.476         0.9%\n",
      "\n"
     ]
    }
   ],
   "source": [
    "# Let's see observation number 1\n",
    "TE.explain_single_prediction(observation_idx=0)"
   ]
  },
  {
   "cell_type": "markdown",
   "metadata": {},
   "source": [
    "TreeExplainer outputs the `value` of the observation, alongside the confidence of the model (as quartiles) regarding the range of values that of a feature falling in the target class. The last column shows the contribution of each feature, in terms of percentage to the final decision."
   ]
  },
  {
   "cell_type": "markdown",
   "metadata": {},
   "source": [
    "### Conclusions"
   ]
  },
  {
   "cell_type": "markdown",
   "metadata": {},
   "source": [
    "treeinterpreter is fast and simple. If you only need the values of feature contributions, it is the best option of the 3 tested here.\n",
    "\n",
    "TreeExplainer offers more advanced features, and to do so it holds and scans the tree structure more thoroughly. This comes at a cost in speed. Most analyses can be carried on in parallel, but (in my experience) this hardly reduces the time of computations. Rather, the overhead is usually slowing the algorithm, but your mileage may vary. More advanced options are available in most methods of this class, which port ideas of R packages to python.\n",
    "\n",
    "ELI5 offers many options, including more advanced ones, such as LIME. However, it is slow, and it doesn't support the inspection of a whole dataset. Moreover, even after looping through all observations, it is cumbersome to obtain average values of feature contributions. If you are simply after feature contributions, go for treeinterpreter; if you want to try LIME, just do so, instead of relying on a third party library; for all other cases, there are better libraries than ELI5, and TreeExplainer might do for you."
   ]
  }
 ],
 "metadata": {
  "kernelspec": {
   "display_name": "Python 3",
   "language": "python",
   "name": "python3"
  },
  "language_info": {
   "codemirror_mode": {
    "name": "ipython",
    "version": 3
   },
   "file_extension": ".py",
   "mimetype": "text/x-python",
   "name": "python",
   "nbconvert_exporter": "python",
   "pygments_lexer": "ipython3",
   "version": "3.6.8"
  }
 },
 "nbformat": 4,
 "nbformat_minor": 1
}
